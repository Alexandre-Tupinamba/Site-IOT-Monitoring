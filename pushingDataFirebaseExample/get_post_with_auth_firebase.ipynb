{
  "nbformat": 4,
  "nbformat_minor": 0,
  "metadata": {
    "colab": {
      "provenance": []
    },
    "kernelspec": {
      "name": "python3",
      "display_name": "Python 3"
    },
    "language_info": {
      "name": "python"
    }
  },
  "cells": [
    {
      "cell_type": "code",
      "execution_count": null,
      "metadata": {
        "colab": {
          "base_uri": "https://localhost:8080/"
        },
        "id": "IsrMjC72eCBk",
        "outputId": "d84e31b3-78a3-4ef6-9e23-7a975d9239ed"
      },
      "outputs": [
        {
          "output_type": "stream",
          "name": "stdout",
          "text": [
            "Response GET: {'Conduct': 32, 'Tempo': 27, 'Turbidez': 0, 'pH': 9}\n",
            "Response GET: <Response [200]>\n",
            "Response PUT: {'Conduct': 32, 'Tempo': 27, 'Turbidez': 0, 'pH': 9}\n",
            "Response PUT: <Response [200]>\n"
          ]
        }
      ],
      "source": [
        "from google.oauth2 import service_account\n",
        "from google.auth.transport.requests import AuthorizedSession\n",
        "import google\n",
        "import json\n",
        "\n",
        "# Define the required scopes\n",
        "scopes = [\n",
        "  \"https://www.googleapis.com/auth/userinfo.email\",\n",
        "  \"https://www.googleapis.com/auth/firebase.database\"\n",
        "]\n",
        "\n",
        "# Authenticate a credential with the service account\n",
        "credentials = service_account.Credentials.from_service_account_file(\n",
        "    \"testemonit-b47a7-firebase-adminsdk-pzfoa-68816bac30.json\", scopes=scopes)\n",
        "\n",
        "# Use the credentials object to authenticate a Requests session.\n",
        "authed_session = AuthorizedSession(credentials)\n",
        "response = authed_session.get(\n",
        "    \"https://testemonit-b47a7-default-rtdb.firebaseio.com/Pai/LastRecord.json\")\n",
        "\n",
        "\n",
        "print(f\"Response GET: {response.json()}\")\n",
        "print(f\"Response GET: {response}\")\n",
        "\n",
        "#### INSERINDO ####\n",
        "data = {\n",
        "    'Conduct': 32, \n",
        "    'Tempo': 27, \n",
        "    'Turbidez': 0, \n",
        "    'pH': 9}\n",
        "data = json.dumps(data)\n",
        "\n",
        "response = authed_session.put(\n",
        "    \"https://testemonit-b47a7-default-rtdb.firebaseio.com/Pai/LastRecord.json\", data=data)\n",
        "\n",
        "print(f\"Response PUT: {response.json()}\")\n",
        "print(f\"Response PUT: {response}\")\n",
        "\n",
        "#print(f\"deletando os dados...\")\n",
        "#authed_session.delete(\n",
        "#    \"https://testemonit-b47a7-default-rtdb.firebaseio.com/Pai/LastRecord.json\"\n",
        "#)"
      ]
    }
  ]
}